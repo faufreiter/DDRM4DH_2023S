{
 "cells": [
  {
   "cell_type": "markdown",
   "id": "cb8e770a-fd17-4953-ab33-cd791cc6bc52",
   "metadata": {},
   "source": [
    "# Data set: European Social Survey (ESS) - Human values scale\n",
    "\n",
    "* European Social Survey (ESS): https://ess-search.nsd.no/CDW/ConceptVariables\n",
    "* chosen topic \"Human values scale\""
   ]
  },
  {
   "cell_type": "code",
   "execution_count": 1,
   "id": "987826e2-fc41-423f-9bc3-f42cba746ada",
   "metadata": {},
   "outputs": [],
   "source": [
    "import numpy as np\n",
    "import pandas as pd\n",
    "import csv\n",
    "import matplotlib as mpl\n",
    "import matplotlib.pyplot as plt\n",
    "import seaborn as sns"
   ]
  },
  {
   "cell_type": "code",
   "execution_count": 2,
   "id": "488432fd-cd02-4f95-88ce-dc5f305abf74",
   "metadata": {},
   "outputs": [],
   "source": [
    "data = pd.read_csv(\"./Data set/ESS-Data-Wizard-subset-2023-04-12.csv\") #just AUSTRIAN data"
   ]
  },
  {
   "cell_type": "code",
   "execution_count": 3,
   "id": "5f53bc7a-7642-4ac5-99a6-b0502f45cb51",
   "metadata": {},
   "outputs": [
    {
     "data": {
      "text/html": [
       "<div>\n",
       "<style scoped>\n",
       "    .dataframe tbody tr th:only-of-type {\n",
       "        vertical-align: middle;\n",
       "    }\n",
       "\n",
       "    .dataframe tbody tr th {\n",
       "        vertical-align: top;\n",
       "    }\n",
       "\n",
       "    .dataframe thead th {\n",
       "        text-align: right;\n",
       "    }\n",
       "</style>\n",
       "<table border=\"1\" class=\"dataframe\">\n",
       "  <thead>\n",
       "    <tr style=\"text-align: right;\">\n",
       "      <th></th>\n",
       "      <th>name</th>\n",
       "      <th>essround</th>\n",
       "      <th>edition</th>\n",
       "      <th>proddate</th>\n",
       "      <th>idno</th>\n",
       "      <th>cntry</th>\n",
       "      <th>dweight</th>\n",
       "      <th>pspwght</th>\n",
       "      <th>pweight</th>\n",
       "      <th>anweight</th>\n",
       "      <th>...</th>\n",
       "      <th>ipfrule</th>\n",
       "      <th>ipgdtim</th>\n",
       "      <th>iphlppl</th>\n",
       "      <th>iplylfr</th>\n",
       "      <th>ipmodst</th>\n",
       "      <th>iprspot</th>\n",
       "      <th>ipshabt</th>\n",
       "      <th>ipstrgv</th>\n",
       "      <th>ipsuces</th>\n",
       "      <th>ipudrst</th>\n",
       "    </tr>\n",
       "  </thead>\n",
       "  <tbody>\n",
       "    <tr>\n",
       "      <th>0</th>\n",
       "      <td>ESS1e06_6</td>\n",
       "      <td>1</td>\n",
       "      <td>6.6</td>\n",
       "      <td>01.12.2018</td>\n",
       "      <td>1</td>\n",
       "      <td>AT</td>\n",
       "      <td>0.9452</td>\n",
       "      <td>0.940933</td>\n",
       "      <td>0.271487</td>\n",
       "      <td>NaN</td>\n",
       "      <td>...</td>\n",
       "      <td>1.0</td>\n",
       "      <td>1.0</td>\n",
       "      <td>1.0</td>\n",
       "      <td>2.0</td>\n",
       "      <td>2.0</td>\n",
       "      <td>4.0</td>\n",
       "      <td>3.0</td>\n",
       "      <td>2.0</td>\n",
       "      <td>3.0</td>\n",
       "      <td>3.0</td>\n",
       "    </tr>\n",
       "    <tr>\n",
       "      <th>1</th>\n",
       "      <td>ESS1e06_6</td>\n",
       "      <td>1</td>\n",
       "      <td>6.6</td>\n",
       "      <td>01.12.2018</td>\n",
       "      <td>2</td>\n",
       "      <td>AT</td>\n",
       "      <td>0.4726</td>\n",
       "      <td>0.470466</td>\n",
       "      <td>0.271487</td>\n",
       "      <td>NaN</td>\n",
       "      <td>...</td>\n",
       "      <td>6.0</td>\n",
       "      <td>1.0</td>\n",
       "      <td>4.0</td>\n",
       "      <td>3.0</td>\n",
       "      <td>5.0</td>\n",
       "      <td>4.0</td>\n",
       "      <td>2.0</td>\n",
       "      <td>3.0</td>\n",
       "      <td>1.0</td>\n",
       "      <td>3.0</td>\n",
       "    </tr>\n",
       "    <tr>\n",
       "      <th>2</th>\n",
       "      <td>ESS1e06_6</td>\n",
       "      <td>1</td>\n",
       "      <td>6.6</td>\n",
       "      <td>01.12.2018</td>\n",
       "      <td>3</td>\n",
       "      <td>AT</td>\n",
       "      <td>0.9452</td>\n",
       "      <td>1.392155</td>\n",
       "      <td>0.271487</td>\n",
       "      <td>NaN</td>\n",
       "      <td>...</td>\n",
       "      <td>2.0</td>\n",
       "      <td>2.0</td>\n",
       "      <td>2.0</td>\n",
       "      <td>2.0</td>\n",
       "      <td>3.0</td>\n",
       "      <td>3.0</td>\n",
       "      <td>2.0</td>\n",
       "      <td>2.0</td>\n",
       "      <td>2.0</td>\n",
       "      <td>2.0</td>\n",
       "    </tr>\n",
       "    <tr>\n",
       "      <th>3</th>\n",
       "      <td>ESS1e06_6</td>\n",
       "      <td>1</td>\n",
       "      <td>6.6</td>\n",
       "      <td>01.12.2018</td>\n",
       "      <td>4</td>\n",
       "      <td>AT</td>\n",
       "      <td>0.9452</td>\n",
       "      <td>1.382163</td>\n",
       "      <td>0.271487</td>\n",
       "      <td>NaN</td>\n",
       "      <td>...</td>\n",
       "      <td>3.0</td>\n",
       "      <td>5.0</td>\n",
       "      <td>4.0</td>\n",
       "      <td>2.0</td>\n",
       "      <td>5.0</td>\n",
       "      <td>4.0</td>\n",
       "      <td>4.0</td>\n",
       "      <td>3.0</td>\n",
       "      <td>4.0</td>\n",
       "      <td>1.0</td>\n",
       "    </tr>\n",
       "    <tr>\n",
       "      <th>4</th>\n",
       "      <td>ESS1e06_6</td>\n",
       "      <td>1</td>\n",
       "      <td>6.6</td>\n",
       "      <td>01.12.2018</td>\n",
       "      <td>6</td>\n",
       "      <td>AT</td>\n",
       "      <td>1.8905</td>\n",
       "      <td>1.437766</td>\n",
       "      <td>0.271487</td>\n",
       "      <td>NaN</td>\n",
       "      <td>...</td>\n",
       "      <td>6.0</td>\n",
       "      <td>2.0</td>\n",
       "      <td>1.0</td>\n",
       "      <td>1.0</td>\n",
       "      <td>5.0</td>\n",
       "      <td>5.0</td>\n",
       "      <td>3.0</td>\n",
       "      <td>4.0</td>\n",
       "      <td>4.0</td>\n",
       "      <td>1.0</td>\n",
       "    </tr>\n",
       "  </tbody>\n",
       "</table>\n",
       "<p>5 rows × 34 columns</p>\n",
       "</div>"
      ],
      "text/plain": [
       "        name  essround  edition    proddate  idno cntry  dweight   pspwght  \\\n",
       "0  ESS1e06_6         1      6.6  01.12.2018     1    AT   0.9452  0.940933   \n",
       "1  ESS1e06_6         1      6.6  01.12.2018     2    AT   0.4726  0.470466   \n",
       "2  ESS1e06_6         1      6.6  01.12.2018     3    AT   0.9452  1.392155   \n",
       "3  ESS1e06_6         1      6.6  01.12.2018     4    AT   0.9452  1.382163   \n",
       "4  ESS1e06_6         1      6.6  01.12.2018     6    AT   1.8905  1.437766   \n",
       "\n",
       "    pweight  anweight  ...  ipfrule  ipgdtim  iphlppl  iplylfr  ipmodst  \\\n",
       "0  0.271487       NaN  ...      1.0      1.0      1.0      2.0      2.0   \n",
       "1  0.271487       NaN  ...      6.0      1.0      4.0      3.0      5.0   \n",
       "2  0.271487       NaN  ...      2.0      2.0      2.0      2.0      3.0   \n",
       "3  0.271487       NaN  ...      3.0      5.0      4.0      2.0      5.0   \n",
       "4  0.271487       NaN  ...      6.0      2.0      1.0      1.0      5.0   \n",
       "\n",
       "   iprspot  ipshabt  ipstrgv  ipsuces  ipudrst  \n",
       "0      4.0      3.0      2.0      3.0      3.0  \n",
       "1      4.0      2.0      3.0      1.0      3.0  \n",
       "2      3.0      2.0      2.0      2.0      2.0  \n",
       "3      4.0      4.0      3.0      4.0      1.0  \n",
       "4      5.0      3.0      4.0      4.0      1.0  \n",
       "\n",
       "[5 rows x 34 columns]"
      ]
     },
     "execution_count": 3,
     "metadata": {},
     "output_type": "execute_result"
    }
   ],
   "source": [
    "data.head()"
   ]
  },
  {
   "cell_type": "code",
   "execution_count": 4,
   "id": "df957ed1-14a0-4e25-9bc8-e4796c1f5c8b",
   "metadata": {},
   "outputs": [
    {
     "data": {
      "text/plain": [
       "Index(['name', 'essround', 'edition', 'proddate', 'idno', 'cntry', 'dweight',\n",
       "       'pspwght', 'pweight', 'anweight', 'prob', 'stratum', 'psu', 'impdiff',\n",
       "       'impenv', 'impfree', 'impfun', 'imprich', 'impsafe', 'imptrad',\n",
       "       'ipadvnt', 'ipbhprp', 'ipcrtiv', 'ipeqopt', 'ipfrule', 'ipgdtim',\n",
       "       'iphlppl', 'iplylfr', 'ipmodst', 'iprspot', 'ipshabt', 'ipstrgv',\n",
       "       'ipsuces', 'ipudrst'],\n",
       "      dtype='object')"
      ]
     },
     "execution_count": 4,
     "metadata": {},
     "output_type": "execute_result"
    }
   ],
   "source": [
    "data.columns"
   ]
  },
  {
   "cell_type": "code",
   "execution_count": 5,
   "id": "961f767d-7dc2-4cd2-91a2-f33d73e9743a",
   "metadata": {},
   "outputs": [
    {
     "name": "stdout",
     "output_type": "stream",
     "text": [
      "['AT']\n"
     ]
    }
   ],
   "source": [
    "print(data['cntry'].unique()) #ONLY austrian data"
   ]
  },
  {
   "cell_type": "code",
   "execution_count": 6,
   "id": "ea0ef221-ea7b-459d-bd0d-21845da77082",
   "metadata": {},
   "outputs": [
    {
     "name": "stdout",
     "output_type": "stream",
     "text": [
      "['ESS1e06_6' 'ESS2e03_6' 'ESS3e03_7' 'ESS7e02_2' 'ESS8e02_2' 'ESS9e03_1'\n",
      " 'ESS10SCe01_1']\n"
     ]
    }
   ],
   "source": [
    "print(data['name'].unique()) "
   ]
  },
  {
   "cell_type": "code",
   "execution_count": 7,
   "id": "c36a7667-eb09-49d8-b755-9456eec5f25f",
   "metadata": {},
   "outputs": [
    {
     "name": "stdout",
     "output_type": "stream",
     "text": [
      "[6.6 3.6 3.7 2.2 3.1 1.1]\n"
     ]
    }
   ],
   "source": [
    "print(data['edition'].unique()) #what is the meaning of \"edition\"?"
   ]
  },
  {
   "cell_type": "code",
   "execution_count": 8,
   "id": "bbeef057-9f2f-4835-a817-2898e57c5a56",
   "metadata": {},
   "outputs": [
    {
     "name": "stdout",
     "output_type": "stream",
     "text": [
      "[ 1  2  3  7  8  9 10]\n"
     ]
    }
   ],
   "source": [
    "print(data['essround'].unique()) # ESS rounds of the data set"
   ]
  },
  {
   "cell_type": "markdown",
   "id": "e4d9bdf9-812b-4c52-b451-ac3f918d889f",
   "metadata": {},
   "source": [
    "## Legend\n",
    "\n",
    "* impdiff - Important to try new and different things in life\n",
    "* impenv - Important to care for nature and environment\n",
    "* impfree - Important to make own decisions and be free\n",
    "* impfun - Important to seek fun and things that give pleasure\n",
    "* imprich - Important to be rich, have money and expensive things\n",
    "* impsafe - Important to live in secure and safe surroundings\n",
    "* imptrad - Important to follow traditions and customs\n",
    "* ipadvnt - Important to seek adventures and have an exciting life\n",
    "* ipbhprp - Important to behave properly\n",
    "* ipcrtiv - Important to think new ideas and being creative\n",
    "* ipeqopt - Important that people are treated equally and have equal opportunities\n",
    "* ipfrule - Important to do what is told and follow rules\n",
    "* ipgdtim - Important to have a good time\n",
    "* iphlppl - Important to help people and care for others well-being\n",
    "* iplylfr - Important to be loyal to friends and devote to people close\n",
    "* ipmodst - Important to be humble and modest, not draw attention\n",
    "* iprspot - Important to get respect from others\n",
    "* ipshabt - Important to show abilities and be admired\n",
    "* ipstrgv - Important that government is strong and ensures safety\n",
    "* ipsuces - Important to be successful and that people recognize achievements\n",
    "* ipudrst - Important to understand different people"
   ]
  },
  {
   "cell_type": "markdown",
   "id": "aab93832-8d67-4433-8016-20067c6f9980",
   "metadata": {},
   "source": [
    "*Further information about the data set:* \n",
    "* **CODEBOOK**: http://localhost:8888/lab/tree/Documents/GitHub/DDRM4DH_2023S/Data%20set/ESS-Data-Wizard-subset-2023-04-12%20codebook.html"
   ]
  },
  {
   "cell_type": "markdown",
   "id": "ae3c4bc6-cfa5-4e30-a7cf-0e20b2dc62a2",
   "metadata": {
    "tags": []
   },
   "source": [
    "\n",
    "### imprich - Important to be rich, have money and expensive things\n",
    "**Value \tCategory**\n",
    "\n",
    "* 1 \tVery much like me\n",
    "* 2 \tLike me\n",
    "* 3 \tSomewhat like me\n",
    "* 4 \tA little like me\n",
    "* 5 \tNot like me\n",
    "* 6 \tNot like me at all\n",
    "* 7 \tRefusal*\n",
    "* 8 \tDon't know*\n",
    "* 9 \tNo answer*\n",
    "\n",
    "*) Missing Value\n"
   ]
  },
  {
   "cell_type": "code",
   "execution_count": 9,
   "id": "8b8caadb-e92c-462c-a501-31d2680f4450",
   "metadata": {},
   "outputs": [
    {
     "data": {
      "text/plain": [
       "4.0    3776\n",
       "5.0    2989\n",
       "3.0    2867\n",
       "6.0    1567\n",
       "2.0    1365\n",
       "1.0     534\n",
       "8.0      69\n",
       "7.0      55\n",
       "Name: imprich, dtype: int64"
      ]
     },
     "execution_count": 9,
     "metadata": {},
     "output_type": "execute_result"
    }
   ],
   "source": [
    "# choose one example to visualize \n",
    "data['imprich'].value_counts()"
   ]
  },
  {
   "cell_type": "code",
   "execution_count": 10,
   "id": "b8d08cb2-e4b3-4892-87f4-cc85a376c167",
   "metadata": {},
   "outputs": [
    {
     "data": {
      "text/plain": [
       "{4.0: 3776,\n",
       " 5.0: 2989,\n",
       " 3.0: 2867,\n",
       " 6.0: 1567,\n",
       " 2.0: 1365,\n",
       " 1.0: 534,\n",
       " 8.0: 69,\n",
       " 7.0: 55}"
      ]
     },
     "execution_count": 10,
     "metadata": {},
     "output_type": "execute_result"
    }
   ],
   "source": [
    "# create dictionary\n",
    "\n",
    "dict_imprich = data['imprich'].value_counts().to_dict()\n",
    "\n",
    "dict_imprich"
   ]
  },
  {
   "cell_type": "code",
   "execution_count": 48,
   "id": "5d6f2150-65d3-4a9b-ad8a-4377683a17f1",
   "metadata": {},
   "outputs": [],
   "source": [
    "# use pop-method to rename key in dictionary : ini_dict['akash'] = ini_dict.pop('akshat')"
   ]
  },
  {
   "cell_type": "code",
   "execution_count": 22,
   "id": "1bb157b4-fe08-404a-8ebe-2eda0519cb40",
   "metadata": {},
   "outputs": [
    {
     "data": {
      "text/html": [
       "<div>\n",
       "<style scoped>\n",
       "    .dataframe tbody tr th:only-of-type {\n",
       "        vertical-align: middle;\n",
       "    }\n",
       "\n",
       "    .dataframe tbody tr th {\n",
       "        vertical-align: top;\n",
       "    }\n",
       "\n",
       "    .dataframe thead th {\n",
       "        text-align: right;\n",
       "    }\n",
       "</style>\n",
       "<table border=\"1\" class=\"dataframe\">\n",
       "  <thead>\n",
       "    <tr style=\"text-align: right;\">\n",
       "      <th></th>\n",
       "      <th>count</th>\n",
       "    </tr>\n",
       "    <tr>\n",
       "      <th>imprich - Value Category</th>\n",
       "      <th></th>\n",
       "    </tr>\n",
       "  </thead>\n",
       "  <tbody>\n",
       "    <tr>\n",
       "      <th>1.0</th>\n",
       "      <td>534</td>\n",
       "    </tr>\n",
       "    <tr>\n",
       "      <th>2.0</th>\n",
       "      <td>1365</td>\n",
       "    </tr>\n",
       "    <tr>\n",
       "      <th>3.0</th>\n",
       "      <td>2867</td>\n",
       "    </tr>\n",
       "    <tr>\n",
       "      <th>4.0</th>\n",
       "      <td>3776</td>\n",
       "    </tr>\n",
       "    <tr>\n",
       "      <th>5.0</th>\n",
       "      <td>2989</td>\n",
       "    </tr>\n",
       "    <tr>\n",
       "      <th>6.0</th>\n",
       "      <td>1567</td>\n",
       "    </tr>\n",
       "    <tr>\n",
       "      <th>7.0</th>\n",
       "      <td>55</td>\n",
       "    </tr>\n",
       "    <tr>\n",
       "      <th>8.0</th>\n",
       "      <td>69</td>\n",
       "    </tr>\n",
       "  </tbody>\n",
       "</table>\n",
       "</div>"
      ],
      "text/plain": [
       "                          count\n",
       "imprich - Value Category       \n",
       "1.0                         534\n",
       "2.0                        1365\n",
       "3.0                        2867\n",
       "4.0                        3776\n",
       "5.0                        2989\n",
       "6.0                        1567\n",
       "7.0                          55\n",
       "8.0                          69"
      ]
     },
     "execution_count": 22,
     "metadata": {},
     "output_type": "execute_result"
    }
   ],
   "source": [
    "df_imprich = pd.DataFrame.from_dict(dict_imprich, orient='index', columns=['count'])\n",
    "df_imprich.index.name = 'imprich - Value Category'\n",
    "df_imprich = df_imprich.sort_index()\n",
    "df_imprich"
   ]
  },
  {
   "cell_type": "code",
   "execution_count": null,
   "id": "95275b87-2ebb-4456-95e6-26f9345bdc24",
   "metadata": {},
   "outputs": [],
   "source": [
    "print(df_new)"
   ]
  },
  {
   "cell_type": "code",
   "execution_count": 21,
   "id": "290da4e5-4596-4c53-b15a-ffe9fb787f17",
   "metadata": {},
   "outputs": [],
   "source": [
    "from IPython.display import HTML\n",
    "#HTML(filename='./Data set/ESS-Data-Wizard-subset-2023-04-12 codebook.html')"
   ]
  },
  {
   "cell_type": "markdown",
   "id": "40bd6885-aee3-4b18-8615-2659f7ef8613",
   "metadata": {},
   "source": [
    "### impdiff - Important to try new and different things in life\n",
    "\n",
    "ESS1, ESS2, ESS3, ESS4, ESS5, ESS6, ESS7, ESS8, ESS9, ESS10\n",
    "\n",
    "**Category \timpdiff**\n",
    "* Very much like me\t1\n",
    "* Like me\t2\n",
    "* Somewhat like me\t3\n",
    "* A little like me\t4\n",
    "* Not like me\t5\n",
    "* Not like me at all\t6\n",
    "* Refusal\t7\n",
    "* Don't know\t8\n",
    "* No answer\t9"
   ]
  },
  {
   "cell_type": "code",
   "execution_count": null,
   "id": "2d762c79-a13f-45db-9036-d0127a1573ca",
   "metadata": {},
   "outputs": [],
   "source": []
  }
 ],
 "metadata": {
  "kernelspec": {
   "display_name": "Python 3 (ipykernel)",
   "language": "python",
   "name": "python3"
  },
  "language_info": {
   "codemirror_mode": {
    "name": "ipython",
    "version": 3
   },
   "file_extension": ".py",
   "mimetype": "text/x-python",
   "name": "python",
   "nbconvert_exporter": "python",
   "pygments_lexer": "ipython3",
   "version": "3.9.12"
  }
 },
 "nbformat": 4,
 "nbformat_minor": 5
}
