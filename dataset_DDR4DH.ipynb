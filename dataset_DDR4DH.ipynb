{
 "cells": [
  {
   "cell_type": "markdown",
   "id": "cb8e770a-fd17-4953-ab33-cd791cc6bc52",
   "metadata": {},
   "source": [
    "# Data set: European Social Survey (ESS) - Human values scale\n",
    "\n",
    "* European Social Survey (ESS): https://ess-search.nsd.no/CDW/ConceptVariables\n",
    "* chosen topic \"Human values scale\""
   ]
  },
  {
   "cell_type": "code",
   "execution_count": 1,
   "id": "987826e2-fc41-423f-9bc3-f42cba746ada",
   "metadata": {},
   "outputs": [],
   "source": [
    "import numpy as np\n",
    "import pandas as pd\n",
    "import csv\n",
    "import matplotlib as mpl\n",
    "import matplotlib.pyplot as plt\n",
    "import seaborn as sns"
   ]
  },
  {
   "cell_type": "code",
   "execution_count": 2,
   "id": "488432fd-cd02-4f95-88ce-dc5f305abf74",
   "metadata": {},
   "outputs": [],
   "source": [
    "data = pd.read_csv(\"./Data set/ESS-Data-Wizard-subset-2023-05-11.csv\") #just round 9 data"
   ]
  },
  {
   "cell_type": "code",
   "execution_count": 3,
   "id": "5f53bc7a-7642-4ac5-99a6-b0502f45cb51",
   "metadata": {},
   "outputs": [
    {
     "data": {
      "text/html": [
       "<div>\n",
       "<style scoped>\n",
       "    .dataframe tbody tr th:only-of-type {\n",
       "        vertical-align: middle;\n",
       "    }\n",
       "\n",
       "    .dataframe tbody tr th {\n",
       "        vertical-align: top;\n",
       "    }\n",
       "\n",
       "    .dataframe thead th {\n",
       "        text-align: right;\n",
       "    }\n",
       "</style>\n",
       "<table border=\"1\" class=\"dataframe\">\n",
       "  <thead>\n",
       "    <tr style=\"text-align: right;\">\n",
       "      <th></th>\n",
       "      <th>name</th>\n",
       "      <th>essround</th>\n",
       "      <th>edition</th>\n",
       "      <th>proddate</th>\n",
       "      <th>idno</th>\n",
       "      <th>cntry</th>\n",
       "      <th>dweight</th>\n",
       "      <th>pspwght</th>\n",
       "      <th>pweight</th>\n",
       "      <th>anweight</th>\n",
       "      <th>...</th>\n",
       "      <th>iphlppl</th>\n",
       "      <th>ipsuces</th>\n",
       "      <th>ipstrgv</th>\n",
       "      <th>ipadvnt</th>\n",
       "      <th>ipbhprp</th>\n",
       "      <th>iprspot</th>\n",
       "      <th>iplylfr</th>\n",
       "      <th>impenv</th>\n",
       "      <th>imptrad</th>\n",
       "      <th>impfun</th>\n",
       "    </tr>\n",
       "  </thead>\n",
       "  <tbody>\n",
       "    <tr>\n",
       "      <th>0</th>\n",
       "      <td>ESS9e03_1</td>\n",
       "      <td>9</td>\n",
       "      <td>3.1</td>\n",
       "      <td>17.02.2021</td>\n",
       "      <td>27</td>\n",
       "      <td>AT</td>\n",
       "      <td>0.581174</td>\n",
       "      <td>0.218111</td>\n",
       "      <td>0.302091</td>\n",
       "      <td>0.065890</td>\n",
       "      <td>...</td>\n",
       "      <td>2</td>\n",
       "      <td>2</td>\n",
       "      <td>2</td>\n",
       "      <td>2</td>\n",
       "      <td>2</td>\n",
       "      <td>2</td>\n",
       "      <td>2</td>\n",
       "      <td>3</td>\n",
       "      <td>2</td>\n",
       "      <td>3</td>\n",
       "    </tr>\n",
       "    <tr>\n",
       "      <th>1</th>\n",
       "      <td>ESS9e03_1</td>\n",
       "      <td>9</td>\n",
       "      <td>3.1</td>\n",
       "      <td>17.02.2021</td>\n",
       "      <td>137</td>\n",
       "      <td>AT</td>\n",
       "      <td>1.062772</td>\n",
       "      <td>0.413473</td>\n",
       "      <td>0.302091</td>\n",
       "      <td>0.124907</td>\n",
       "      <td>...</td>\n",
       "      <td>3</td>\n",
       "      <td>4</td>\n",
       "      <td>3</td>\n",
       "      <td>5</td>\n",
       "      <td>2</td>\n",
       "      <td>3</td>\n",
       "      <td>2</td>\n",
       "      <td>3</td>\n",
       "      <td>3</td>\n",
       "      <td>3</td>\n",
       "    </tr>\n",
       "    <tr>\n",
       "      <th>2</th>\n",
       "      <td>ESS9e03_1</td>\n",
       "      <td>9</td>\n",
       "      <td>3.1</td>\n",
       "      <td>17.02.2021</td>\n",
       "      <td>194</td>\n",
       "      <td>AT</td>\n",
       "      <td>1.376509</td>\n",
       "      <td>2.270293</td>\n",
       "      <td>0.302091</td>\n",
       "      <td>0.685836</td>\n",
       "      <td>...</td>\n",
       "      <td>2</td>\n",
       "      <td>3</td>\n",
       "      <td>2</td>\n",
       "      <td>3</td>\n",
       "      <td>2</td>\n",
       "      <td>3</td>\n",
       "      <td>3</td>\n",
       "      <td>3</td>\n",
       "      <td>3</td>\n",
       "      <td>3</td>\n",
       "    </tr>\n",
       "    <tr>\n",
       "      <th>3</th>\n",
       "      <td>ESS9e03_1</td>\n",
       "      <td>9</td>\n",
       "      <td>3.1</td>\n",
       "      <td>17.02.2021</td>\n",
       "      <td>208</td>\n",
       "      <td>AT</td>\n",
       "      <td>0.993399</td>\n",
       "      <td>0.386483</td>\n",
       "      <td>0.302091</td>\n",
       "      <td>0.116753</td>\n",
       "      <td>...</td>\n",
       "      <td>1</td>\n",
       "      <td>1</td>\n",
       "      <td>1</td>\n",
       "      <td>6</td>\n",
       "      <td>1</td>\n",
       "      <td>1</td>\n",
       "      <td>1</td>\n",
       "      <td>1</td>\n",
       "      <td>2</td>\n",
       "      <td>3</td>\n",
       "    </tr>\n",
       "    <tr>\n",
       "      <th>4</th>\n",
       "      <td>ESS9e03_1</td>\n",
       "      <td>9</td>\n",
       "      <td>3.1</td>\n",
       "      <td>17.02.2021</td>\n",
       "      <td>220</td>\n",
       "      <td>AT</td>\n",
       "      <td>0.377353</td>\n",
       "      <td>1.032102</td>\n",
       "      <td>0.302091</td>\n",
       "      <td>0.311789</td>\n",
       "      <td>...</td>\n",
       "      <td>2</td>\n",
       "      <td>6</td>\n",
       "      <td>2</td>\n",
       "      <td>6</td>\n",
       "      <td>1</td>\n",
       "      <td>3</td>\n",
       "      <td>2</td>\n",
       "      <td>1</td>\n",
       "      <td>1</td>\n",
       "      <td>3</td>\n",
       "    </tr>\n",
       "  </tbody>\n",
       "</table>\n",
       "<p>5 rows × 34 columns</p>\n",
       "</div>"
      ],
      "text/plain": [
       "        name  essround  edition    proddate  idno cntry   dweight   pspwght  \\\n",
       "0  ESS9e03_1         9      3.1  17.02.2021    27    AT  0.581174  0.218111   \n",
       "1  ESS9e03_1         9      3.1  17.02.2021   137    AT  1.062772  0.413473   \n",
       "2  ESS9e03_1         9      3.1  17.02.2021   194    AT  1.376509  2.270293   \n",
       "3  ESS9e03_1         9      3.1  17.02.2021   208    AT  0.993399  0.386483   \n",
       "4  ESS9e03_1         9      3.1  17.02.2021   220    AT  0.377353  1.032102   \n",
       "\n",
       "    pweight  anweight  ...  iphlppl  ipsuces  ipstrgv  ipadvnt  ipbhprp  \\\n",
       "0  0.302091  0.065890  ...        2        2        2        2        2   \n",
       "1  0.302091  0.124907  ...        3        4        3        5        2   \n",
       "2  0.302091  0.685836  ...        2        3        2        3        2   \n",
       "3  0.302091  0.116753  ...        1        1        1        6        1   \n",
       "4  0.302091  0.311789  ...        2        6        2        6        1   \n",
       "\n",
       "   iprspot  iplylfr  impenv  imptrad  impfun  \n",
       "0        2        2       3        2       3  \n",
       "1        3        2       3        3       3  \n",
       "2        3        3       3        3       3  \n",
       "3        1        1       1        2       3  \n",
       "4        3        2       1        1       3  \n",
       "\n",
       "[5 rows x 34 columns]"
      ]
     },
     "execution_count": 3,
     "metadata": {},
     "output_type": "execute_result"
    }
   ],
   "source": [
    "data.head()"
   ]
  },
  {
   "cell_type": "code",
   "execution_count": 4,
   "id": "df957ed1-14a0-4e25-9bc8-e4796c1f5c8b",
   "metadata": {},
   "outputs": [
    {
     "data": {
      "text/plain": [
       "Index(['name', 'essround', 'edition', 'proddate', 'idno', 'cntry', 'dweight',\n",
       "       'pspwght', 'pweight', 'anweight', 'prob', 'stratum', 'psu', 'ipcrtiv',\n",
       "       'imprich', 'ipeqopt', 'ipshabt', 'impsafe', 'impdiff', 'ipfrule',\n",
       "       'ipudrst', 'ipmodst', 'ipgdtim', 'impfree', 'iphlppl', 'ipsuces',\n",
       "       'ipstrgv', 'ipadvnt', 'ipbhprp', 'iprspot', 'iplylfr', 'impenv',\n",
       "       'imptrad', 'impfun'],\n",
       "      dtype='object')"
      ]
     },
     "execution_count": 4,
     "metadata": {},
     "output_type": "execute_result"
    }
   ],
   "source": [
    "data.columns"
   ]
  },
  {
   "cell_type": "code",
   "execution_count": 5,
   "id": "961f767d-7dc2-4cd2-91a2-f33d73e9743a",
   "metadata": {},
   "outputs": [
    {
     "name": "stdout",
     "output_type": "stream",
     "text": [
      "['AT' 'BE' 'BG' 'CH' 'CY' 'CZ' 'DE' 'DK' 'EE' 'ES' 'FI' 'FR' 'GB' 'HR'\n",
      " 'HU' 'IE' 'IS' 'IT' 'LT' 'LV' 'ME' 'NL' 'NO' 'PL' 'PT' 'RS' 'SE' 'SI'\n",
      " 'SK']\n"
     ]
    }
   ],
   "source": [
    "print(data['cntry'].unique()) #countries"
   ]
  },
  {
   "cell_type": "code",
   "execution_count": 6,
   "id": "ea0ef221-ea7b-459d-bd0d-21845da77082",
   "metadata": {},
   "outputs": [
    {
     "name": "stdout",
     "output_type": "stream",
     "text": [
      "['ESS9e03_1']\n"
     ]
    }
   ],
   "source": [
    "print(data['name'].unique()) "
   ]
  },
  {
   "cell_type": "code",
   "execution_count": 7,
   "id": "c36a7667-eb09-49d8-b755-9456eec5f25f",
   "metadata": {},
   "outputs": [
    {
     "name": "stdout",
     "output_type": "stream",
     "text": [
      "[3.1]\n"
     ]
    }
   ],
   "source": [
    "print(data['edition'].unique()) #what is the meaning of \"edition\"?"
   ]
  },
  {
   "cell_type": "code",
   "execution_count": 8,
   "id": "bbeef057-9f2f-4835-a817-2898e57c5a56",
   "metadata": {},
   "outputs": [
    {
     "name": "stdout",
     "output_type": "stream",
     "text": [
      "[9]\n"
     ]
    }
   ],
   "source": [
    "print(data['essround'].unique()) # ESS rounds of the data set"
   ]
  },
  {
   "cell_type": "code",
   "execution_count": 24,
   "id": "a2ae5ea6-2afe-4787-8cc1-14e03714616c",
   "metadata": {},
   "outputs": [
    {
     "data": {
      "text/html": [
       "<div>\n",
       "<style scoped>\n",
       "    .dataframe tbody tr th:only-of-type {\n",
       "        vertical-align: middle;\n",
       "    }\n",
       "\n",
       "    .dataframe tbody tr th {\n",
       "        vertical-align: top;\n",
       "    }\n",
       "\n",
       "    .dataframe thead th {\n",
       "        text-align: right;\n",
       "    }\n",
       "</style>\n",
       "<table border=\"1\" class=\"dataframe\">\n",
       "  <thead>\n",
       "    <tr style=\"text-align: right;\">\n",
       "      <th></th>\n",
       "      <th>name</th>\n",
       "      <th>essround</th>\n",
       "      <th>edition</th>\n",
       "      <th>proddate</th>\n",
       "      <th>idno</th>\n",
       "      <th>cntry</th>\n",
       "      <th>dweight</th>\n",
       "      <th>pspwght</th>\n",
       "      <th>pweight</th>\n",
       "      <th>anweight</th>\n",
       "      <th>...</th>\n",
       "      <th>iphlppl</th>\n",
       "      <th>ipsuces</th>\n",
       "      <th>ipstrgv</th>\n",
       "      <th>ipadvnt</th>\n",
       "      <th>ipbhprp</th>\n",
       "      <th>iprspot</th>\n",
       "      <th>iplylfr</th>\n",
       "      <th>impenv</th>\n",
       "      <th>imptrad</th>\n",
       "      <th>impfun</th>\n",
       "    </tr>\n",
       "  </thead>\n",
       "  <tbody>\n",
       "    <tr>\n",
       "      <th>0</th>\n",
       "      <td>ESS9e03_1</td>\n",
       "      <td>9</td>\n",
       "      <td>3.1</td>\n",
       "      <td>17.02.2021</td>\n",
       "      <td>27</td>\n",
       "      <td>AT</td>\n",
       "      <td>0.581174</td>\n",
       "      <td>0.218111</td>\n",
       "      <td>0.302091</td>\n",
       "      <td>0.065890</td>\n",
       "      <td>...</td>\n",
       "      <td>2</td>\n",
       "      <td>2</td>\n",
       "      <td>2</td>\n",
       "      <td>2</td>\n",
       "      <td>2</td>\n",
       "      <td>2</td>\n",
       "      <td>2</td>\n",
       "      <td>3</td>\n",
       "      <td>2</td>\n",
       "      <td>3</td>\n",
       "    </tr>\n",
       "    <tr>\n",
       "      <th>1</th>\n",
       "      <td>ESS9e03_1</td>\n",
       "      <td>9</td>\n",
       "      <td>3.1</td>\n",
       "      <td>17.02.2021</td>\n",
       "      <td>137</td>\n",
       "      <td>AT</td>\n",
       "      <td>1.062772</td>\n",
       "      <td>0.413473</td>\n",
       "      <td>0.302091</td>\n",
       "      <td>0.124907</td>\n",
       "      <td>...</td>\n",
       "      <td>3</td>\n",
       "      <td>4</td>\n",
       "      <td>3</td>\n",
       "      <td>5</td>\n",
       "      <td>2</td>\n",
       "      <td>3</td>\n",
       "      <td>2</td>\n",
       "      <td>3</td>\n",
       "      <td>3</td>\n",
       "      <td>3</td>\n",
       "    </tr>\n",
       "    <tr>\n",
       "      <th>2</th>\n",
       "      <td>ESS9e03_1</td>\n",
       "      <td>9</td>\n",
       "      <td>3.1</td>\n",
       "      <td>17.02.2021</td>\n",
       "      <td>194</td>\n",
       "      <td>AT</td>\n",
       "      <td>1.376509</td>\n",
       "      <td>2.270293</td>\n",
       "      <td>0.302091</td>\n",
       "      <td>0.685836</td>\n",
       "      <td>...</td>\n",
       "      <td>2</td>\n",
       "      <td>3</td>\n",
       "      <td>2</td>\n",
       "      <td>3</td>\n",
       "      <td>2</td>\n",
       "      <td>3</td>\n",
       "      <td>3</td>\n",
       "      <td>3</td>\n",
       "      <td>3</td>\n",
       "      <td>3</td>\n",
       "    </tr>\n",
       "    <tr>\n",
       "      <th>3</th>\n",
       "      <td>ESS9e03_1</td>\n",
       "      <td>9</td>\n",
       "      <td>3.1</td>\n",
       "      <td>17.02.2021</td>\n",
       "      <td>208</td>\n",
       "      <td>AT</td>\n",
       "      <td>0.993399</td>\n",
       "      <td>0.386483</td>\n",
       "      <td>0.302091</td>\n",
       "      <td>0.116753</td>\n",
       "      <td>...</td>\n",
       "      <td>1</td>\n",
       "      <td>1</td>\n",
       "      <td>1</td>\n",
       "      <td>6</td>\n",
       "      <td>1</td>\n",
       "      <td>1</td>\n",
       "      <td>1</td>\n",
       "      <td>1</td>\n",
       "      <td>2</td>\n",
       "      <td>3</td>\n",
       "    </tr>\n",
       "    <tr>\n",
       "      <th>4</th>\n",
       "      <td>ESS9e03_1</td>\n",
       "      <td>9</td>\n",
       "      <td>3.1</td>\n",
       "      <td>17.02.2021</td>\n",
       "      <td>220</td>\n",
       "      <td>AT</td>\n",
       "      <td>0.377353</td>\n",
       "      <td>1.032102</td>\n",
       "      <td>0.302091</td>\n",
       "      <td>0.311789</td>\n",
       "      <td>...</td>\n",
       "      <td>2</td>\n",
       "      <td>6</td>\n",
       "      <td>2</td>\n",
       "      <td>6</td>\n",
       "      <td>1</td>\n",
       "      <td>3</td>\n",
       "      <td>2</td>\n",
       "      <td>1</td>\n",
       "      <td>1</td>\n",
       "      <td>3</td>\n",
       "    </tr>\n",
       "    <tr>\n",
       "      <th>...</th>\n",
       "      <td>...</td>\n",
       "      <td>...</td>\n",
       "      <td>...</td>\n",
       "      <td>...</td>\n",
       "      <td>...</td>\n",
       "      <td>...</td>\n",
       "      <td>...</td>\n",
       "      <td>...</td>\n",
       "      <td>...</td>\n",
       "      <td>...</td>\n",
       "      <td>...</td>\n",
       "      <td>...</td>\n",
       "      <td>...</td>\n",
       "      <td>...</td>\n",
       "      <td>...</td>\n",
       "      <td>...</td>\n",
       "      <td>...</td>\n",
       "      <td>...</td>\n",
       "      <td>...</td>\n",
       "      <td>...</td>\n",
       "      <td>...</td>\n",
       "    </tr>\n",
       "    <tr>\n",
       "      <th>13538</th>\n",
       "      <td>ESS9e03_1</td>\n",
       "      <td>9</td>\n",
       "      <td>3.1</td>\n",
       "      <td>17.02.2021</td>\n",
       "      <td>69827</td>\n",
       "      <td>DE</td>\n",
       "      <td>0.999466</td>\n",
       "      <td>0.854023</td>\n",
       "      <td>3.037345</td>\n",
       "      <td>2.593962</td>\n",
       "      <td>...</td>\n",
       "      <td>1</td>\n",
       "      <td>4</td>\n",
       "      <td>1</td>\n",
       "      <td>5</td>\n",
       "      <td>1</td>\n",
       "      <td>5</td>\n",
       "      <td>1</td>\n",
       "      <td>1</td>\n",
       "      <td>2</td>\n",
       "      <td>4</td>\n",
       "    </tr>\n",
       "    <tr>\n",
       "      <th>13539</th>\n",
       "      <td>ESS9e03_1</td>\n",
       "      <td>9</td>\n",
       "      <td>3.1</td>\n",
       "      <td>17.02.2021</td>\n",
       "      <td>69832</td>\n",
       "      <td>DE</td>\n",
       "      <td>0.999466</td>\n",
       "      <td>1.051171</td>\n",
       "      <td>3.037345</td>\n",
       "      <td>3.192768</td>\n",
       "      <td>...</td>\n",
       "      <td>1</td>\n",
       "      <td>1</td>\n",
       "      <td>3</td>\n",
       "      <td>3</td>\n",
       "      <td>1</td>\n",
       "      <td>2</td>\n",
       "      <td>2</td>\n",
       "      <td>2</td>\n",
       "      <td>3</td>\n",
       "      <td>1</td>\n",
       "    </tr>\n",
       "    <tr>\n",
       "      <th>13540</th>\n",
       "      <td>ESS9e03_1</td>\n",
       "      <td>9</td>\n",
       "      <td>3.1</td>\n",
       "      <td>17.02.2021</td>\n",
       "      <td>69859</td>\n",
       "      <td>DE</td>\n",
       "      <td>0.999466</td>\n",
       "      <td>1.119079</td>\n",
       "      <td>3.037345</td>\n",
       "      <td>3.399029</td>\n",
       "      <td>...</td>\n",
       "      <td>3</td>\n",
       "      <td>1</td>\n",
       "      <td>1</td>\n",
       "      <td>3</td>\n",
       "      <td>2</td>\n",
       "      <td>1</td>\n",
       "      <td>1</td>\n",
       "      <td>3</td>\n",
       "      <td>2</td>\n",
       "      <td>2</td>\n",
       "    </tr>\n",
       "    <tr>\n",
       "      <th>13541</th>\n",
       "      <td>ESS9e03_1</td>\n",
       "      <td>9</td>\n",
       "      <td>3.1</td>\n",
       "      <td>17.02.2021</td>\n",
       "      <td>69896</td>\n",
       "      <td>DE</td>\n",
       "      <td>0.999466</td>\n",
       "      <td>1.177179</td>\n",
       "      <td>3.037345</td>\n",
       "      <td>3.575499</td>\n",
       "      <td>...</td>\n",
       "      <td>2</td>\n",
       "      <td>3</td>\n",
       "      <td>2</td>\n",
       "      <td>3</td>\n",
       "      <td>2</td>\n",
       "      <td>3</td>\n",
       "      <td>1</td>\n",
       "      <td>2</td>\n",
       "      <td>2</td>\n",
       "      <td>2</td>\n",
       "    </tr>\n",
       "    <tr>\n",
       "      <th>13542</th>\n",
       "      <td>ESS9e03_1</td>\n",
       "      <td>9</td>\n",
       "      <td>3.1</td>\n",
       "      <td>17.02.2021</td>\n",
       "      <td>69956</td>\n",
       "      <td>DE</td>\n",
       "      <td>0.999466</td>\n",
       "      <td>0.731354</td>\n",
       "      <td>3.037345</td>\n",
       "      <td>2.221374</td>\n",
       "      <td>...</td>\n",
       "      <td>2</td>\n",
       "      <td>4</td>\n",
       "      <td>2</td>\n",
       "      <td>5</td>\n",
       "      <td>5</td>\n",
       "      <td>5</td>\n",
       "      <td>1</td>\n",
       "      <td>1</td>\n",
       "      <td>4</td>\n",
       "      <td>3</td>\n",
       "    </tr>\n",
       "  </tbody>\n",
       "</table>\n",
       "<p>4857 rows × 34 columns</p>\n",
       "</div>"
      ],
      "text/plain": [
       "            name  essround  edition    proddate   idno cntry   dweight  \\\n",
       "0      ESS9e03_1         9      3.1  17.02.2021     27    AT  0.581174   \n",
       "1      ESS9e03_1         9      3.1  17.02.2021    137    AT  1.062772   \n",
       "2      ESS9e03_1         9      3.1  17.02.2021    194    AT  1.376509   \n",
       "3      ESS9e03_1         9      3.1  17.02.2021    208    AT  0.993399   \n",
       "4      ESS9e03_1         9      3.1  17.02.2021    220    AT  0.377353   \n",
       "...          ...       ...      ...         ...    ...   ...       ...   \n",
       "13538  ESS9e03_1         9      3.1  17.02.2021  69827    DE  0.999466   \n",
       "13539  ESS9e03_1         9      3.1  17.02.2021  69832    DE  0.999466   \n",
       "13540  ESS9e03_1         9      3.1  17.02.2021  69859    DE  0.999466   \n",
       "13541  ESS9e03_1         9      3.1  17.02.2021  69896    DE  0.999466   \n",
       "13542  ESS9e03_1         9      3.1  17.02.2021  69956    DE  0.999466   \n",
       "\n",
       "        pspwght   pweight  anweight  ...  iphlppl  ipsuces  ipstrgv  ipadvnt  \\\n",
       "0      0.218111  0.302091  0.065890  ...        2        2        2        2   \n",
       "1      0.413473  0.302091  0.124907  ...        3        4        3        5   \n",
       "2      2.270293  0.302091  0.685836  ...        2        3        2        3   \n",
       "3      0.386483  0.302091  0.116753  ...        1        1        1        6   \n",
       "4      1.032102  0.302091  0.311789  ...        2        6        2        6   \n",
       "...         ...       ...       ...  ...      ...      ...      ...      ...   \n",
       "13538  0.854023  3.037345  2.593962  ...        1        4        1        5   \n",
       "13539  1.051171  3.037345  3.192768  ...        1        1        3        3   \n",
       "13540  1.119079  3.037345  3.399029  ...        3        1        1        3   \n",
       "13541  1.177179  3.037345  3.575499  ...        2        3        2        3   \n",
       "13542  0.731354  3.037345  2.221374  ...        2        4        2        5   \n",
       "\n",
       "       ipbhprp  iprspot  iplylfr  impenv  imptrad  impfun  \n",
       "0            2        2        2       3        2       3  \n",
       "1            2        3        2       3        3       3  \n",
       "2            2        3        3       3        3       3  \n",
       "3            1        1        1       1        2       3  \n",
       "4            1        3        2       1        1       3  \n",
       "...        ...      ...      ...     ...      ...     ...  \n",
       "13538        1        5        1       1        2       4  \n",
       "13539        1        2        2       2        3       1  \n",
       "13540        2        1        1       3        2       2  \n",
       "13541        2        3        1       2        2       2  \n",
       "13542        5        5        1       1        4       3  \n",
       "\n",
       "[4857 rows x 34 columns]"
      ]
     },
     "execution_count": 24,
     "metadata": {},
     "output_type": "execute_result"
    }
   ],
   "source": [
    "countries = ['AT', 'DE']\n",
    "df_countries = data[data['cntry'].isin(countries)]\n",
    "df_countries"
   ]
  },
  {
   "cell_type": "code",
   "execution_count": 27,
   "id": "132efa0d-2a85-4e33-97f3-30f60964baca",
   "metadata": {},
   "outputs": [
    {
     "name": "stdout",
     "output_type": "stream",
     "text": [
      "['AT' 'DE']\n"
     ]
    }
   ],
   "source": [
    "print(df_countries['cntry'].unique()) "
   ]
  },
  {
   "cell_type": "code",
   "execution_count": 46,
   "id": "72dc5f98-83db-4643-8e12-d53d62e8d5d4",
   "metadata": {},
   "outputs": [
    {
     "data": {
      "image/png": "[encoded data removed]",
      "text/plain": [
       "<Figure size 432x288 with 1 Axes>"
      ]
     },
     "metadata": {},
     "output_type": "display_data"
    }
   ],
   "source": [
    "#seaborn boxplot test\n",
    "sns.boxplot(x=df_countries['cntry'], y=df_countries['imprich'], data=df_countries)\n",
    "plt.show()"
   ]
  },
  {
   "cell_type": "code",
   "execution_count": 45,
   "id": "9f190f36-15bb-412f-84fa-d6733f45df21",
   "metadata": {},
   "outputs": [
    {
     "data": {
      "image/png": "[encoded data removed]",
      "text/plain": [
       "<Figure size 2160x720 with 1 Axes>"
      ]
     },
     "metadata": {},
     "output_type": "display_data"
    }
   ],
   "source": [
    "#grouped poxplot \n",
    "\n",
    "sns.set_theme(style=\"ticks\", palette=\"pastel\")\n",
    "fig, ax = plt.subplots(figsize=(30, 10))\n",
    "sns.boxplot(x=data['cntry'], y=data['imprich'], data=data)\n",
    "sns.despine(offset=10, trim=True)\n",
    "plt.title(\"imprich - Important to be rich, have money and expensive things\", fontsize=30)\n",
    "#plt.savefig('boxplot_cntry.png', bbox_inches='tight')\n",
    "plt.show()"
   ]
  },
  {
   "cell_type": "markdown",
   "id": "e4d9bdf9-812b-4c52-b451-ac3f918d889f",
   "metadata": {},
   "source": [
    "## Legend\n",
    "\n",
    "* impdiff - Important to try new and different things in life\n",
    "* impenv - Important to care for nature and environment\n",
    "* impfree - Important to make own decisions and be free\n",
    "* impfun - Important to seek fun and things that give pleasure\n",
    "* imprich - Important to be rich, have money and expensive things\n",
    "* impsafe - Important to live in secure and safe surroundings\n",
    "* imptrad - Important to follow traditions and customs\n",
    "* ipadvnt - Important to seek adventures and have an exciting life\n",
    "* ipbhprp - Important to behave properly\n",
    "* ipcrtiv - Important to think new ideas and being creative\n",
    "* ipeqopt - Important that people are treated equally and have equal opportunities\n",
    "* ipfrule - Important to do what is told and follow rules\n",
    "* ipgdtim - Important to have a good time\n",
    "* iphlppl - Important to help people and care for others well-being\n",
    "* iplylfr - Important to be loyal to friends and devote to people close\n",
    "* ipmodst - Important to be humble and modest, not draw attention\n",
    "* iprspot - Important to get respect from others\n",
    "* ipshabt - Important to show abilities and be admired\n",
    "* ipstrgv - Important that government is strong and ensures safety\n",
    "* ipsuces - Important to be successful and that people recognize achievements\n",
    "* ipudrst - Important to understand different people"
   ]
  },
  {
   "cell_type": "markdown",
   "id": "aab93832-8d67-4433-8016-20067c6f9980",
   "metadata": {},
   "source": [
    "*Further information about the data set:* \n",
    "* **CODEBOOK**: http://localhost:8888/lab/tree/Documents/GitHub/DDRM4DH_2023S/Data%20set/ESS-Data-Wizard-subset-2023-04-12%20codebook.html"
   ]
  },
  {
   "cell_type": "markdown",
   "id": "ae3c4bc6-cfa5-4e30-a7cf-0e20b2dc62a2",
   "metadata": {
    "tags": []
   },
   "source": [
    "\n",
    "### imprich - Important to be rich, have money and expensive things\n",
    "**Value \tCategory**\n",
    "\n",
    "* 1 \tVery much like me\n",
    "* 2 \tLike me\n",
    "* 3 \tSomewhat like me\n",
    "* 4 \tA little like me\n",
    "* 5 \tNot like me\n",
    "* 6 \tNot like me at all\n",
    "* 7 \tRefusal*\n",
    "* 8 \tDon't know*\n",
    "* 9 \tNo answer*\n",
    "\n",
    "*) Missing Value\n"
   ]
  },
  {
   "cell_type": "code",
   "execution_count": 9,
   "id": "8b8caadb-e92c-462c-a501-31d2680f4450",
   "metadata": {},
   "outputs": [
    {
     "data": {
      "text/plain": [
       "5    18178\n",
       "4    10882\n",
       "3     7763\n",
       "6     6944\n",
       "2     3714\n",
       "1     1101\n",
       "8      531\n",
       "7      309\n",
       "9       97\n",
       "Name: imprich, dtype: int64"
      ]
     },
     "execution_count": 9,
     "metadata": {},
     "output_type": "execute_result"
    }
   ],
   "source": [
    "# choose one example to visualize \n",
    "data['imprich'].value_counts()"
   ]
  },
  {
   "cell_type": "code",
   "execution_count": 10,
   "id": "b8d08cb2-e4b3-4892-87f4-cc85a376c167",
   "metadata": {},
   "outputs": [
    {
     "data": {
      "text/plain": [
       "{5: 18178, 4: 10882, 3: 7763, 6: 6944, 2: 3714, 1: 1101, 8: 531, 7: 309, 9: 97}"
      ]
     },
     "execution_count": 10,
     "metadata": {},
     "output_type": "execute_result"
    }
   ],
   "source": [
    "# create dictionary\n",
    "\n",
    "dict_imprich = data['imprich'].value_counts().to_dict()\n",
    "dict_imprich"
   ]
  },
  {
   "cell_type": "code",
   "execution_count": 11,
   "id": "7d1ba3bc-0919-488c-9dc5-7362996800af",
   "metadata": {},
   "outputs": [
    {
     "ename": "KeyError",
     "evalue": "'hallo'",
     "output_type": "error",
     "traceback": [
      "\u001b[1;31m---------------------------------------------------------------------------\u001b[0m",
      "\u001b[1;31mKeyError\u001b[0m                                  Traceback (most recent call last)",
      "Input \u001b[1;32mIn [11]\u001b[0m, in \u001b[0;36m<cell line: 2>\u001b[1;34m()\u001b[0m\n\u001b[0;32m      1\u001b[0m dict_imprich2 \u001b[38;5;241m=\u001b[39m data[\u001b[38;5;124m'\u001b[39m\u001b[38;5;124mimprich\u001b[39m\u001b[38;5;124m'\u001b[39m]\u001b[38;5;241m.\u001b[39mvalue_counts()\u001b[38;5;241m.\u001b[39mto_dict()\n\u001b[1;32m----> 2\u001b[0m dict_imprich2[\u001b[38;5;124m'\u001b[39m\u001b[38;5;124m1\u001b[39m\u001b[38;5;124m'\u001b[39m] \u001b[38;5;241m=\u001b[39m \u001b[43mdict_imprich2\u001b[49m\u001b[38;5;241;43m.\u001b[39;49m\u001b[43mpop\u001b[49m\u001b[43m(\u001b[49m\u001b[38;5;124;43m'\u001b[39;49m\u001b[38;5;124;43mhallo\u001b[39;49m\u001b[38;5;124;43m'\u001b[39;49m\u001b[43m)\u001b[49m\n\u001b[0;32m      3\u001b[0m dict_imprich2\n",
      "\u001b[1;31mKeyError\u001b[0m: 'hallo'"
     ]
    }
   ],
   "source": [
    "dict_imprich2 = data['imprich'].value_counts().to_dict()\n",
    "dict_imprich2['1'] = dict_imprich2.pop(h')\n",
    "dict_imprich2"
   ]
  },
  {
   "cell_type": "markdown",
   "id": "35b3c142-845a-45e7-b704-d3021a62b195",
   "metadata": {},
   "source": [
    "https://www.geeksforgeeks.org/python-ways-to-change-keys-in-dictionary/\n",
    "\n",
    "use pop-method to rename key in dictionary : ini_dict['akash'] = ini_dict.pop('akshat')"
   ]
  },
  {
   "cell_type": "code",
   "execution_count": 12,
   "id": "1bb157b4-fe08-404a-8ebe-2eda0519cb40",
   "metadata": {},
   "outputs": [
    {
     "data": {
      "text/html": [
       "<div>\n",
       "<style scoped>\n",
       "    .dataframe tbody tr th:only-of-type {\n",
       "        vertical-align: middle;\n",
       "    }\n",
       "\n",
       "    .dataframe tbody tr th {\n",
       "        vertical-align: top;\n",
       "    }\n",
       "\n",
       "    .dataframe thead th {\n",
       "        text-align: right;\n",
       "    }\n",
       "</style>\n",
       "<table border=\"1\" class=\"dataframe\">\n",
       "  <thead>\n",
       "    <tr style=\"text-align: right;\">\n",
       "      <th></th>\n",
       "      <th>count</th>\n",
       "    </tr>\n",
       "    <tr>\n",
       "      <th>imprich - Value Category</th>\n",
       "      <th></th>\n",
       "    </tr>\n",
       "  </thead>\n",
       "  <tbody>\n",
       "    <tr>\n",
       "      <th>1</th>\n",
       "      <td>1101</td>\n",
       "    </tr>\n",
       "    <tr>\n",
       "      <th>2</th>\n",
       "      <td>3714</td>\n",
       "    </tr>\n",
       "    <tr>\n",
       "      <th>3</th>\n",
       "      <td>7763</td>\n",
       "    </tr>\n",
       "    <tr>\n",
       "      <th>4</th>\n",
       "      <td>10882</td>\n",
       "    </tr>\n",
       "    <tr>\n",
       "      <th>5</th>\n",
       "      <td>18178</td>\n",
       "    </tr>\n",
       "    <tr>\n",
       "      <th>6</th>\n",
       "      <td>6944</td>\n",
       "    </tr>\n",
       "    <tr>\n",
       "      <th>7</th>\n",
       "      <td>309</td>\n",
       "    </tr>\n",
       "    <tr>\n",
       "      <th>8</th>\n",
       "      <td>531</td>\n",
       "    </tr>\n",
       "    <tr>\n",
       "      <th>9</th>\n",
       "      <td>97</td>\n",
       "    </tr>\n",
       "  </tbody>\n",
       "</table>\n",
       "</div>"
      ],
      "text/plain": [
       "                          count\n",
       "imprich - Value Category       \n",
       "1                          1101\n",
       "2                          3714\n",
       "3                          7763\n",
       "4                         10882\n",
       "5                         18178\n",
       "6                          6944\n",
       "7                           309\n",
       "8                           531\n",
       "9                            97"
      ]
     },
     "execution_count": 12,
     "metadata": {},
     "output_type": "execute_result"
    }
   ],
   "source": [
    "df_imprich = pd.DataFrame.from_dict(dict_imprich, orient='index', columns=['count'])\n",
    "df_imprich.index.name = 'imprich - Value Category'\n",
    "df_imprich = df_imprich.sort_index()\n",
    "df_imprich"
   ]
  },
  {
   "cell_type": "code",
   "execution_count": 13,
   "id": "1bca8d93-4e7e-433a-ab9b-03dc9df2641e",
   "metadata": {},
   "outputs": [
    {
     "data": {
      "image/png": "[encoded data removed]",
      "text/plain": [
       "<Figure size 432x288 with 1 Axes>"
      ]
     },
     "metadata": {},
     "output_type": "display_data"
    }
   ],
   "source": [
    "#use seaborn\n",
    "\n",
    "sns.set_theme(style=\"ticks\", palette=\"pastel\")\n",
    "\n",
    "# Load the example tips dataset\n",
    "tips = sns.load_dataset(\"tips\")\n",
    "\n",
    "# Draw a nested boxplot to show bills by day and time\n",
    "sns.boxplot(x=\"day\", y=\"total_bill\",\n",
    "            hue=\"smoker\", palette=[\"m\", \"g\"],\n",
    "            data=tips)\n",
    "sns.despine(offset=10, trim=True)"
   ]
  },
  {
   "cell_type": "markdown",
   "id": "a0d4ccd2-8ea3-4364-800b-174b046fd0be",
   "metadata": {},
   "source": [
    "seaborn, grouped boxplot: https://seaborn.pydata.org/examples/grouped_boxplot.html"
   ]
  },
  {
   "cell_type": "markdown",
   "id": "40bd6885-aee3-4b18-8615-2659f7ef8613",
   "metadata": {},
   "source": [
    "### impdiff - Important to try new and different things in life\n",
    "\n",
    "ESS1, ESS2, ESS3, ESS4, ESS5, ESS6, ESS7, ESS8, ESS9, ESS10\n",
    "\n",
    "**Category \timpdiff**\n",
    "* Very much like me\t1\n",
    "* Like me\t2\n",
    "* Somewhat like me\t3\n",
    "* A little like me\t4\n",
    "* Not like me\t5\n",
    "* Not like me at all\t6\n",
    "* Refusal\t7\n",
    "* Don't know\t8\n",
    "* No answer\t9"
   ]
  },
  {
   "cell_type": "code",
   "execution_count": null,
   "id": "2d762c79-a13f-45db-9036-d0127a1573ca",
   "metadata": {},
   "outputs": [],
   "source": []
  }
 ],
 "metadata": {
  "kernelspec": {
   "display_name": "Python 3 (ipykernel)",
   "language": "python",
   "name": "python3"
  },
  "language_info": {
   "codemirror_mode": {
    "name": "ipython",
    "version": 3
   },
   "file_extension": ".py",
   "mimetype": "text/x-python",
   "name": "python",
   "nbconvert_exporter": "python",
   "pygments_lexer": "ipython3",
   "version": "3.9.12"
  }
 },
 "nbformat": 4,
 "nbformat_minor": 5
}
