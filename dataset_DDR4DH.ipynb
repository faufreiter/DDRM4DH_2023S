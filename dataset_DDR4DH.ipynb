{
 "cells": [
  {
   "cell_type": "markdown",
   "id": "cb8e770a-fd17-4953-ab33-cd791cc6bc52",
   "metadata": {},
   "source": [
    "# Data set: European Social Survey (ESS) - Human values scale\n",
    "\n",
    "* European Social Survey (ESS): https://ess-search.nsd.no/CDW/ConceptVariables\n",
    "* chosen topic \"Human values scale\""
   ]
  },
  {
   "cell_type": "code",
   "execution_count": 1,
   "id": "987826e2-fc41-423f-9bc3-f42cba746ada",
   "metadata": {},
   "outputs": [],
   "source": [
    "import numpy as np\n",
    "import pandas as pd\n",
    "import csv\n",
    "import matplotlib as mpl\n",
    "import matplotlib.pyplot as plt\n",
    "import seaborn as sns"
   ]
  },
  {
   "cell_type": "code",
   "execution_count": 15,
   "id": "488432fd-cd02-4f95-88ce-dc5f305abf74",
   "metadata": {},
   "outputs": [],
   "source": [
    "data = pd.read_csv(\"./Data set/ESS-Data-Wizard-subset-2023-05-19.csv\") #just round 9 data"
   ]
  },
  {
   "cell_type": "code",
   "execution_count": 16,
   "id": "5f53bc7a-7642-4ac5-99a6-b0502f45cb51",
   "metadata": {},
   "outputs": [
    {
     "data": {
      "text/html": [
       "<div>\n",
       "<style scoped>\n",
       "    .dataframe tbody tr th:only-of-type {\n",
       "        vertical-align: middle;\n",
       "    }\n",
       "\n",
       "    .dataframe tbody tr th {\n",
       "        vertical-align: top;\n",
       "    }\n",
       "\n",
       "    .dataframe thead th {\n",
       "        text-align: right;\n",
       "    }\n",
       "</style>\n",
       "<table border=\"1\" class=\"dataframe\">\n",
       "  <thead>\n",
       "    <tr style=\"text-align: right;\">\n",
       "      <th></th>\n",
       "      <th>name</th>\n",
       "      <th>essround</th>\n",
       "      <th>edition</th>\n",
       "      <th>proddate</th>\n",
       "      <th>idno</th>\n",
       "      <th>cntry</th>\n",
       "      <th>dweight</th>\n",
       "      <th>pspwght</th>\n",
       "      <th>pweight</th>\n",
       "      <th>anweight</th>\n",
       "      <th>prob</th>\n",
       "      <th>stratum</th>\n",
       "      <th>psu</th>\n",
       "      <th>impenv</th>\n",
       "      <th>imprich</th>\n",
       "      <th>ipeqopt</th>\n",
       "      <th>iphlppl</th>\n",
       "      <th>ipstrgv</th>\n",
       "    </tr>\n",
       "  </thead>\n",
       "  <tbody>\n",
       "    <tr>\n",
       "      <th>0</th>\n",
       "      <td>ESS4e04_5</td>\n",
       "      <td>4</td>\n",
       "      <td>4.5</td>\n",
       "      <td>01.12.2018</td>\n",
       "      <td>11</td>\n",
       "      <td>BG</td>\n",
       "      <td>0.8285</td>\n",
       "      <td>1.115312</td>\n",
       "      <td>0.296719</td>\n",
       "      <td>NaN</td>\n",
       "      <td>NaN</td>\n",
       "      <td>NaN</td>\n",
       "      <td>NaN</td>\n",
       "      <td>1</td>\n",
       "      <td>8</td>\n",
       "      <td>2</td>\n",
       "      <td>1</td>\n",
       "      <td>1</td>\n",
       "    </tr>\n",
       "    <tr>\n",
       "      <th>1</th>\n",
       "      <td>ESS4e04_5</td>\n",
       "      <td>4</td>\n",
       "      <td>4.5</td>\n",
       "      <td>01.12.2018</td>\n",
       "      <td>13</td>\n",
       "      <td>BG</td>\n",
       "      <td>0.4143</td>\n",
       "      <td>0.557723</td>\n",
       "      <td>0.296719</td>\n",
       "      <td>NaN</td>\n",
       "      <td>NaN</td>\n",
       "      <td>NaN</td>\n",
       "      <td>NaN</td>\n",
       "      <td>1</td>\n",
       "      <td>4</td>\n",
       "      <td>3</td>\n",
       "      <td>1</td>\n",
       "      <td>2</td>\n",
       "    </tr>\n",
       "    <tr>\n",
       "      <th>2</th>\n",
       "      <td>ESS4e04_5</td>\n",
       "      <td>4</td>\n",
       "      <td>4.5</td>\n",
       "      <td>01.12.2018</td>\n",
       "      <td>15</td>\n",
       "      <td>BG</td>\n",
       "      <td>1.2428</td>\n",
       "      <td>1.734877</td>\n",
       "      <td>0.296719</td>\n",
       "      <td>NaN</td>\n",
       "      <td>NaN</td>\n",
       "      <td>NaN</td>\n",
       "      <td>NaN</td>\n",
       "      <td>1</td>\n",
       "      <td>3</td>\n",
       "      <td>1</td>\n",
       "      <td>3</td>\n",
       "      <td>1</td>\n",
       "    </tr>\n",
       "    <tr>\n",
       "      <th>3</th>\n",
       "      <td>ESS4e04_5</td>\n",
       "      <td>4</td>\n",
       "      <td>4.5</td>\n",
       "      <td>01.12.2018</td>\n",
       "      <td>16</td>\n",
       "      <td>BG</td>\n",
       "      <td>1.2428</td>\n",
       "      <td>1.688932</td>\n",
       "      <td>0.296719</td>\n",
       "      <td>NaN</td>\n",
       "      <td>NaN</td>\n",
       "      <td>NaN</td>\n",
       "      <td>NaN</td>\n",
       "      <td>2</td>\n",
       "      <td>3</td>\n",
       "      <td>2</td>\n",
       "      <td>2</td>\n",
       "      <td>2</td>\n",
       "    </tr>\n",
       "    <tr>\n",
       "      <th>4</th>\n",
       "      <td>ESS4e04_5</td>\n",
       "      <td>4</td>\n",
       "      <td>4.5</td>\n",
       "      <td>01.12.2018</td>\n",
       "      <td>17</td>\n",
       "      <td>BG</td>\n",
       "      <td>0.4143</td>\n",
       "      <td>0.557723</td>\n",
       "      <td>0.296719</td>\n",
       "      <td>NaN</td>\n",
       "      <td>NaN</td>\n",
       "      <td>NaN</td>\n",
       "      <td>NaN</td>\n",
       "      <td>2</td>\n",
       "      <td>6</td>\n",
       "      <td>3</td>\n",
       "      <td>2</td>\n",
       "      <td>1</td>\n",
       "    </tr>\n",
       "  </tbody>\n",
       "</table>\n",
       "</div>"
      ],
      "text/plain": [
       "        name  essround  edition    proddate  idno cntry  dweight   pspwght  \\\n",
       "0  ESS4e04_5         4      4.5  01.12.2018    11    BG   0.8285  1.115312   \n",
       "1  ESS4e04_5         4      4.5  01.12.2018    13    BG   0.4143  0.557723   \n",
       "2  ESS4e04_5         4      4.5  01.12.2018    15    BG   1.2428  1.734877   \n",
       "3  ESS4e04_5         4      4.5  01.12.2018    16    BG   1.2428  1.688932   \n",
       "4  ESS4e04_5         4      4.5  01.12.2018    17    BG   0.4143  0.557723   \n",
       "\n",
       "    pweight  anweight  prob  stratum  psu  impenv  imprich  ipeqopt  iphlppl  \\\n",
       "0  0.296719       NaN   NaN      NaN  NaN       1        8        2        1   \n",
       "1  0.296719       NaN   NaN      NaN  NaN       1        4        3        1   \n",
       "2  0.296719       NaN   NaN      NaN  NaN       1        3        1        3   \n",
       "3  0.296719       NaN   NaN      NaN  NaN       2        3        2        2   \n",
       "4  0.296719       NaN   NaN      NaN  NaN       2        6        3        2   \n",
       "\n",
       "   ipstrgv  \n",
       "0        1  \n",
       "1        2  \n",
       "2        1  \n",
       "3        2  \n",
       "4        1  "
      ]
     },
     "execution_count": 16,
     "metadata": {},
     "output_type": "execute_result"
    }
   ],
   "source": [
    "data.head()"
   ]
  },
  {
   "cell_type": "code",
   "execution_count": 17,
   "id": "df957ed1-14a0-4e25-9bc8-e4796c1f5c8b",
   "metadata": {},
   "outputs": [
    {
     "data": {
      "text/plain": [
       "Index(['name', 'essround', 'edition', 'proddate', 'idno', 'cntry', 'dweight',\n",
       "       'pspwght', 'pweight', 'anweight', 'prob', 'stratum', 'psu', 'impenv',\n",
       "       'imprich', 'ipeqopt', 'iphlppl', 'ipstrgv'],\n",
       "      dtype='object')"
      ]
     },
     "execution_count": 17,
     "metadata": {},
     "output_type": "execute_result"
    }
   ],
   "source": [
    "data.columns"
   ]
  },
  {
   "cell_type": "code",
   "execution_count": 18,
   "id": "961f767d-7dc2-4cd2-91a2-f33d73e9743a",
   "metadata": {},
   "outputs": [
    {
     "name": "stdout",
     "output_type": "stream",
     "text": [
      "['BG' 'DE' 'ES' 'GB' 'SE']\n"
     ]
    }
   ],
   "source": [
    "print(data['cntry'].unique()) #countries --> Bulgaria, Germany, Spain, United Kingdom, Sweden"
   ]
  },
  {
   "cell_type": "code",
   "execution_count": 19,
   "id": "ea0ef221-ea7b-459d-bd0d-21845da77082",
   "metadata": {},
   "outputs": [
    {
     "name": "stdout",
     "output_type": "stream",
     "text": [
      "['ESS4e04_5' 'ESS9e03_1']\n"
     ]
    }
   ],
   "source": [
    "print(data['name'].unique()) "
   ]
  },
  {
   "cell_type": "code",
   "execution_count": 20,
   "id": "c36a7667-eb09-49d8-b755-9456eec5f25f",
   "metadata": {},
   "outputs": [
    {
     "name": "stdout",
     "output_type": "stream",
     "text": [
      "[4.5 3.1]\n"
     ]
    }
   ],
   "source": [
    "print(data['edition'].unique()) #what is the meaning of \"edition\"?"
   ]
  },
  {
   "cell_type": "code",
   "execution_count": 21,
   "id": "bbeef057-9f2f-4835-a817-2898e57c5a56",
   "metadata": {},
   "outputs": [
    {
     "name": "stdout",
     "output_type": "stream",
     "text": [
      "[4 9]\n"
     ]
    }
   ],
   "source": [
    "print(data['essround'].unique()) # ESS rounds of the data set"
   ]
  },
  {
   "cell_type": "code",
   "execution_count": 22,
   "id": "a2ae5ea6-2afe-4787-8cc1-14e03714616c",
   "metadata": {},
   "outputs": [
    {
     "data": {
      "text/html": [
       "<div>\n",
       "<style scoped>\n",
       "    .dataframe tbody tr th:only-of-type {\n",
       "        vertical-align: middle;\n",
       "    }\n",
       "\n",
       "    .dataframe tbody tr th {\n",
       "        vertical-align: top;\n",
       "    }\n",
       "\n",
       "    .dataframe thead th {\n",
       "        text-align: right;\n",
       "    }\n",
       "</style>\n",
       "<table border=\"1\" class=\"dataframe\">\n",
       "  <thead>\n",
       "    <tr style=\"text-align: right;\">\n",
       "      <th></th>\n",
       "      <th>name</th>\n",
       "      <th>essround</th>\n",
       "      <th>edition</th>\n",
       "      <th>proddate</th>\n",
       "      <th>idno</th>\n",
       "      <th>cntry</th>\n",
       "      <th>dweight</th>\n",
       "      <th>pspwght</th>\n",
       "      <th>pweight</th>\n",
       "      <th>anweight</th>\n",
       "      <th>prob</th>\n",
       "      <th>stratum</th>\n",
       "      <th>psu</th>\n",
       "      <th>impenv</th>\n",
       "      <th>imprich</th>\n",
       "      <th>ipeqopt</th>\n",
       "      <th>iphlppl</th>\n",
       "      <th>ipstrgv</th>\n",
       "    </tr>\n",
       "  </thead>\n",
       "  <tbody>\n",
       "    <tr>\n",
       "      <th>2230</th>\n",
       "      <td>ESS4e04_5</td>\n",
       "      <td>4</td>\n",
       "      <td>4.5</td>\n",
       "      <td>01.12.2018</td>\n",
       "      <td>101113</td>\n",
       "      <td>DE</td>\n",
       "      <td>1.251500</td>\n",
       "      <td>0.968534</td>\n",
       "      <td>2.578558</td>\n",
       "      <td>NaN</td>\n",
       "      <td>NaN</td>\n",
       "      <td>NaN</td>\n",
       "      <td>NaN</td>\n",
       "      <td>2</td>\n",
       "      <td>5</td>\n",
       "      <td>3</td>\n",
       "      <td>2</td>\n",
       "      <td>3</td>\n",
       "    </tr>\n",
       "    <tr>\n",
       "      <th>2231</th>\n",
       "      <td>ESS4e04_5</td>\n",
       "      <td>4</td>\n",
       "      <td>4.5</td>\n",
       "      <td>01.12.2018</td>\n",
       "      <td>101131</td>\n",
       "      <td>DE</td>\n",
       "      <td>1.251500</td>\n",
       "      <td>0.904864</td>\n",
       "      <td>2.578558</td>\n",
       "      <td>NaN</td>\n",
       "      <td>NaN</td>\n",
       "      <td>NaN</td>\n",
       "      <td>NaN</td>\n",
       "      <td>1</td>\n",
       "      <td>5</td>\n",
       "      <td>2</td>\n",
       "      <td>2</td>\n",
       "      <td>2</td>\n",
       "    </tr>\n",
       "    <tr>\n",
       "      <th>2232</th>\n",
       "      <td>ESS4e04_5</td>\n",
       "      <td>4</td>\n",
       "      <td>4.5</td>\n",
       "      <td>01.12.2018</td>\n",
       "      <td>101208</td>\n",
       "      <td>DE</td>\n",
       "      <td>1.251500</td>\n",
       "      <td>1.480923</td>\n",
       "      <td>2.578558</td>\n",
       "      <td>NaN</td>\n",
       "      <td>NaN</td>\n",
       "      <td>NaN</td>\n",
       "      <td>NaN</td>\n",
       "      <td>2</td>\n",
       "      <td>5</td>\n",
       "      <td>2</td>\n",
       "      <td>3</td>\n",
       "      <td>1</td>\n",
       "    </tr>\n",
       "    <tr>\n",
       "      <th>2233</th>\n",
       "      <td>ESS4e04_5</td>\n",
       "      <td>4</td>\n",
       "      <td>4.5</td>\n",
       "      <td>01.12.2018</td>\n",
       "      <td>101211</td>\n",
       "      <td>DE</td>\n",
       "      <td>1.251500</td>\n",
       "      <td>0.904864</td>\n",
       "      <td>2.578558</td>\n",
       "      <td>NaN</td>\n",
       "      <td>NaN</td>\n",
       "      <td>NaN</td>\n",
       "      <td>NaN</td>\n",
       "      <td>2</td>\n",
       "      <td>6</td>\n",
       "      <td>1</td>\n",
       "      <td>2</td>\n",
       "      <td>2</td>\n",
       "    </tr>\n",
       "    <tr>\n",
       "      <th>2234</th>\n",
       "      <td>ESS4e04_5</td>\n",
       "      <td>4</td>\n",
       "      <td>4.5</td>\n",
       "      <td>01.12.2018</td>\n",
       "      <td>101217</td>\n",
       "      <td>DE</td>\n",
       "      <td>1.251500</td>\n",
       "      <td>1.480923</td>\n",
       "      <td>2.578558</td>\n",
       "      <td>NaN</td>\n",
       "      <td>NaN</td>\n",
       "      <td>NaN</td>\n",
       "      <td>NaN</td>\n",
       "      <td>3</td>\n",
       "      <td>4</td>\n",
       "      <td>3</td>\n",
       "      <td>2</td>\n",
       "      <td>3</td>\n",
       "    </tr>\n",
       "    <tr>\n",
       "      <th>...</th>\n",
       "      <td>...</td>\n",
       "      <td>...</td>\n",
       "      <td>...</td>\n",
       "      <td>...</td>\n",
       "      <td>...</td>\n",
       "      <td>...</td>\n",
       "      <td>...</td>\n",
       "      <td>...</td>\n",
       "      <td>...</td>\n",
       "      <td>...</td>\n",
       "      <td>...</td>\n",
       "      <td>...</td>\n",
       "      <td>...</td>\n",
       "      <td>...</td>\n",
       "      <td>...</td>\n",
       "      <td>...</td>\n",
       "      <td>...</td>\n",
       "      <td>...</td>\n",
       "    </tr>\n",
       "    <tr>\n",
       "      <th>16290</th>\n",
       "      <td>ESS9e03_1</td>\n",
       "      <td>9</td>\n",
       "      <td>3.1</td>\n",
       "      <td>17.02.2021</td>\n",
       "      <td>69827</td>\n",
       "      <td>DE</td>\n",
       "      <td>0.999466</td>\n",
       "      <td>0.854023</td>\n",
       "      <td>3.037345</td>\n",
       "      <td>2.593962</td>\n",
       "      <td>0.000122</td>\n",
       "      <td>277.0</td>\n",
       "      <td>5741.0</td>\n",
       "      <td>1</td>\n",
       "      <td>5</td>\n",
       "      <td>2</td>\n",
       "      <td>1</td>\n",
       "      <td>1</td>\n",
       "    </tr>\n",
       "    <tr>\n",
       "      <th>16291</th>\n",
       "      <td>ESS9e03_1</td>\n",
       "      <td>9</td>\n",
       "      <td>3.1</td>\n",
       "      <td>17.02.2021</td>\n",
       "      <td>69832</td>\n",
       "      <td>DE</td>\n",
       "      <td>0.999466</td>\n",
       "      <td>1.051171</td>\n",
       "      <td>3.037345</td>\n",
       "      <td>3.192768</td>\n",
       "      <td>0.000122</td>\n",
       "      <td>324.0</td>\n",
       "      <td>5821.0</td>\n",
       "      <td>2</td>\n",
       "      <td>4</td>\n",
       "      <td>2</td>\n",
       "      <td>1</td>\n",
       "      <td>3</td>\n",
       "    </tr>\n",
       "    <tr>\n",
       "      <th>16292</th>\n",
       "      <td>ESS9e03_1</td>\n",
       "      <td>9</td>\n",
       "      <td>3.1</td>\n",
       "      <td>17.02.2021</td>\n",
       "      <td>69859</td>\n",
       "      <td>DE</td>\n",
       "      <td>0.999466</td>\n",
       "      <td>1.119079</td>\n",
       "      <td>3.037345</td>\n",
       "      <td>3.399029</td>\n",
       "      <td>0.000122</td>\n",
       "      <td>287.0</td>\n",
       "      <td>5759.0</td>\n",
       "      <td>3</td>\n",
       "      <td>1</td>\n",
       "      <td>4</td>\n",
       "      <td>3</td>\n",
       "      <td>1</td>\n",
       "    </tr>\n",
       "    <tr>\n",
       "      <th>16293</th>\n",
       "      <td>ESS9e03_1</td>\n",
       "      <td>9</td>\n",
       "      <td>3.1</td>\n",
       "      <td>17.02.2021</td>\n",
       "      <td>69896</td>\n",
       "      <td>DE</td>\n",
       "      <td>0.999466</td>\n",
       "      <td>1.177179</td>\n",
       "      <td>3.037345</td>\n",
       "      <td>3.575499</td>\n",
       "      <td>0.000122</td>\n",
       "      <td>313.0</td>\n",
       "      <td>5720.0</td>\n",
       "      <td>2</td>\n",
       "      <td>4</td>\n",
       "      <td>3</td>\n",
       "      <td>2</td>\n",
       "      <td>2</td>\n",
       "    </tr>\n",
       "    <tr>\n",
       "      <th>16294</th>\n",
       "      <td>ESS9e03_1</td>\n",
       "      <td>9</td>\n",
       "      <td>3.1</td>\n",
       "      <td>17.02.2021</td>\n",
       "      <td>69956</td>\n",
       "      <td>DE</td>\n",
       "      <td>0.999466</td>\n",
       "      <td>0.731354</td>\n",
       "      <td>3.037345</td>\n",
       "      <td>2.221374</td>\n",
       "      <td>0.000122</td>\n",
       "      <td>336.0</td>\n",
       "      <td>5857.0</td>\n",
       "      <td>1</td>\n",
       "      <td>5</td>\n",
       "      <td>2</td>\n",
       "      <td>2</td>\n",
       "      <td>2</td>\n",
       "    </tr>\n",
       "  </tbody>\n",
       "</table>\n",
       "<p>5109 rows × 18 columns</p>\n",
       "</div>"
      ],
      "text/plain": [
       "            name  essround  edition    proddate    idno cntry   dweight  \\\n",
       "2230   ESS4e04_5         4      4.5  01.12.2018  101113    DE  1.251500   \n",
       "2231   ESS4e04_5         4      4.5  01.12.2018  101131    DE  1.251500   \n",
       "2232   ESS4e04_5         4      4.5  01.12.2018  101208    DE  1.251500   \n",
       "2233   ESS4e04_5         4      4.5  01.12.2018  101211    DE  1.251500   \n",
       "2234   ESS4e04_5         4      4.5  01.12.2018  101217    DE  1.251500   \n",
       "...          ...       ...      ...         ...     ...   ...       ...   \n",
       "16290  ESS9e03_1         9      3.1  17.02.2021   69827    DE  0.999466   \n",
       "16291  ESS9e03_1         9      3.1  17.02.2021   69832    DE  0.999466   \n",
       "16292  ESS9e03_1         9      3.1  17.02.2021   69859    DE  0.999466   \n",
       "16293  ESS9e03_1         9      3.1  17.02.2021   69896    DE  0.999466   \n",
       "16294  ESS9e03_1         9      3.1  17.02.2021   69956    DE  0.999466   \n",
       "\n",
       "        pspwght   pweight  anweight      prob  stratum     psu  impenv  \\\n",
       "2230   0.968534  2.578558       NaN       NaN      NaN     NaN       2   \n",
       "2231   0.904864  2.578558       NaN       NaN      NaN     NaN       1   \n",
       "2232   1.480923  2.578558       NaN       NaN      NaN     NaN       2   \n",
       "2233   0.904864  2.578558       NaN       NaN      NaN     NaN       2   \n",
       "2234   1.480923  2.578558       NaN       NaN      NaN     NaN       3   \n",
       "...         ...       ...       ...       ...      ...     ...     ...   \n",
       "16290  0.854023  3.037345  2.593962  0.000122    277.0  5741.0       1   \n",
       "16291  1.051171  3.037345  3.192768  0.000122    324.0  5821.0       2   \n",
       "16292  1.119079  3.037345  3.399029  0.000122    287.0  5759.0       3   \n",
       "16293  1.177179  3.037345  3.575499  0.000122    313.0  5720.0       2   \n",
       "16294  0.731354  3.037345  2.221374  0.000122    336.0  5857.0       1   \n",
       "\n",
       "       imprich  ipeqopt  iphlppl  ipstrgv  \n",
       "2230         5        3        2        3  \n",
       "2231         5        2        2        2  \n",
       "2232         5        2        3        1  \n",
       "2233         6        1        2        2  \n",
       "2234         4        3        2        3  \n",
       "...        ...      ...      ...      ...  \n",
       "16290        5        2        1        1  \n",
       "16291        4        2        1        3  \n",
       "16292        1        4        3        1  \n",
       "16293        4        3        2        2  \n",
       "16294        5        2        2        2  \n",
       "\n",
       "[5109 rows x 18 columns]"
      ]
     },
     "execution_count": 22,
     "metadata": {},
     "output_type": "execute_result"
    }
   ],
   "source": [
    "countries = ['AT', 'DE']\n",
    "df_countries = data[data['cntry'].isin(countries)]\n",
    "df_countries"
   ]
  },
  {
   "cell_type": "code",
   "execution_count": 23,
   "id": "132efa0d-2a85-4e33-97f3-30f60964baca",
   "metadata": {},
   "outputs": [
    {
     "name": "stdout",
     "output_type": "stream",
     "text": [
      "['DE']\n"
     ]
    }
   ],
   "source": [
    "print(df_countries['cntry'].unique()) "
   ]
  },
  {
   "cell_type": "code",
   "execution_count": 27,
   "id": "72dc5f98-83db-4643-8e12-d53d62e8d5d4",
   "metadata": {},
   "outputs": [
    {
     "data": {
      "image/png": "[encoded data removed]",
      "text/plain": [
       "<Figure size 432x288 with 1 Axes>"
      ]
     },
     "metadata": {},
     "output_type": "display_data"
    }
   ],
   "source": [
    "#seaborn boxplot test\n",
    "sns.boxplot(x=data['cntry'], y=data['imprich'], data=data)\n",
    "plt.show()"
   ]
  },
  {
   "cell_type": "code",
   "execution_count": 28,
   "id": "9f190f36-15bb-412f-84fa-d6733f45df21",
   "metadata": {},
   "outputs": [
    {
     "data": {
      "image/png": "[encoded data removed]",
      "text/plain": [
       "<Figure size 2160x720 with 1 Axes>"
      ]
     },
     "metadata": {},
     "output_type": "display_data"
    }
   ],
   "source": [
    "#grouped poxplot \n",
    "\n",
    "sns.set_theme(style=\"ticks\", palette=\"pastel\")\n",
    "fig, ax = plt.subplots(figsize=(30, 10))\n",
    "sns.boxplot(x=data['cntry'], y=data['imprich'], data=data)\n",
    "sns.despine(offset=10, trim=True) #remove frame\n",
    "plt.title(\"imprich - Important to be rich, have money and expensive things\", fontsize=30)\n",
    "#plt.savefig('boxplot_cntry.png', bbox_inches='tight')\n",
    "plt.show()"
   ]
  },
  {
   "cell_type": "markdown",
   "id": "09840ff7-9ddd-4641-83be-9366b05bbb30",
   "metadata": {},
   "source": [
    "**Try plotly!** More interactive than *Seaborn* https://plotly.com/python/box-plots/"
   ]
  },
  {
   "cell_type": "markdown",
   "id": "0f30c250-47b9-4439-8f3a-a39af148ae5b",
   "metadata": {},
   "source": [
    "### Choosing the right graph: \n",
    "* https://www.mymarketresearchmethods.com/types-of-charts-choose/"
   ]
  },
  {
   "cell_type": "markdown",
   "id": "e4d9bdf9-812b-4c52-b451-ac3f918d889f",
   "metadata": {},
   "source": [
    "## Legend\n",
    "\n",
    "* impdiff - Important to try new and different things in life\n",
    "* impenv - Important to care for nature and environment\n",
    "* impfree - Important to make own decisions and be free\n",
    "* impfun - Important to seek fun and things that give pleasure\n",
    "* imprich - Important to be rich, have money and expensive things\n",
    "* impsafe - Important to live in secure and safe surroundings\n",
    "* imptrad - Important to follow traditions and customs\n",
    "* ipadvnt - Important to seek adventures and have an exciting life\n",
    "* ipbhprp - Important to behave properly\n",
    "* ipcrtiv - Important to think new ideas and being creative\n",
    "* ipeqopt - Important that people are treated equally and have equal opportunities\n",
    "* ipfrule - Important to do what is told and follow rules\n",
    "* ipgdtim - Important to have a good time\n",
    "* iphlppl - Important to help people and care for others well-being\n",
    "* iplylfr - Important to be loyal to friends and devote to people close\n",
    "* ipmodst - Important to be humble and modest, not draw attention\n",
    "* iprspot - Important to get respect from others\n",
    "* ipshabt - Important to show abilities and be admired\n",
    "* ipstrgv - Important that government is strong and ensures safety\n",
    "* ipsuces - Important to be successful and that people recognize achievements\n",
    "* ipudrst - Important to understand different people"
   ]
  },
  {
   "cell_type": "markdown",
   "id": "aab93832-8d67-4433-8016-20067c6f9980",
   "metadata": {},
   "source": [
    "*Further information about the data set:* \n",
    "* **CODEBOOK**: http://localhost:8888/lab/tree/Documents/GitHub/DDRM4DH_2023S/Data%20set/ESS-Data-Wizard-subset-2023-05-11/ESS-Data-Wizard-subset-2023-05-11%20codebook.html"
   ]
  },
  {
   "cell_type": "markdown",
   "id": "ae3c4bc6-cfa5-4e30-a7cf-0e20b2dc62a2",
   "metadata": {
    "tags": []
   },
   "source": [
    "\n",
    "### imprich - Important to be rich, have money and expensive things\n",
    "**Value \tCategory**\n",
    "\n",
    "* 1 \tVery much like me\n",
    "* 2 \tLike me\n",
    "* 3 \tSomewhat like me\n",
    "* 4 \tA little like me\n",
    "* 5 \tNot like me\n",
    "* 6 \tNot like me at all\n",
    "* 7 \tRefusal*\n",
    "* 8 \tDon't know*\n",
    "* 9 \tNo answer*\n",
    "\n",
    "*) Missing Value\n"
   ]
  },
  {
   "cell_type": "code",
   "execution_count": 29,
   "id": "8b8caadb-e92c-462c-a501-31d2680f4450",
   "metadata": {},
   "outputs": [
    {
     "data": {
      "text/plain": [
       "5    8567\n",
       "4    4244\n",
       "3    3184\n",
       "6    2982\n",
       "2    1466\n",
       "1     532\n",
       "9     337\n",
       "8     247\n",
       "7     147\n",
       "Name: imprich, dtype: int64"
      ]
     },
     "execution_count": 29,
     "metadata": {},
     "output_type": "execute_result"
    }
   ],
   "source": [
    "# choose one example to visualize \n",
    "data['imprich'].value_counts()"
   ]
  },
  {
   "cell_type": "code",
   "execution_count": 30,
   "id": "b8d08cb2-e4b3-4892-87f4-cc85a376c167",
   "metadata": {},
   "outputs": [
    {
     "data": {
      "text/plain": [
       "{5: 8567, 4: 4244, 3: 3184, 6: 2982, 2: 1466, 1: 532, 9: 337, 8: 247, 7: 147}"
      ]
     },
     "execution_count": 30,
     "metadata": {},
     "output_type": "execute_result"
    }
   ],
   "source": [
    "# create dictionary\n",
    "\n",
    "dict_imprich = data['imprich'].value_counts().to_dict()\n",
    "dict_imprich"
   ]
  },
  {
   "cell_type": "code",
   "execution_count": 32,
   "id": "7d1ba3bc-0919-488c-9dc5-7362996800af",
   "metadata": {
    "tags": []
   },
   "outputs": [
    {
     "ename": "SyntaxError",
     "evalue": "EOL while scanning string literal (2989237245.py, line 2)",
     "output_type": "error",
     "traceback": [
      "\u001b[1;36m  Input \u001b[1;32mIn [32]\u001b[1;36m\u001b[0m\n\u001b[1;33m    dict_imprich2['1'] = dict_imprich2.pop(h')#CHANGE\u001b[0m\n\u001b[1;37m                                                     ^\u001b[0m\n\u001b[1;31mSyntaxError\u001b[0m\u001b[1;31m:\u001b[0m EOL while scanning string literal\n"
     ]
    }
   ],
   "source": [
    "dict_imprich2 = data['imprich'].value_counts().to_dict()\n",
    "dict_imprich2['1'] = dict_imprich2.pop(h')#CHANGE\n",
    "dict_imprich2"
   ]
  },
  {
   "cell_type": "markdown",
   "id": "35b3c142-845a-45e7-b704-d3021a62b195",
   "metadata": {},
   "source": [
    "https://www.geeksforgeeks.org/python-ways-to-change-keys-in-dictionary/\n",
    "\n",
    "use pop-method to rename key in dictionary : ini_dict['akash'] = ini_dict.pop('akshat')"
   ]
  },
  {
   "cell_type": "code",
   "execution_count": 33,
   "id": "1bb157b4-fe08-404a-8ebe-2eda0519cb40",
   "metadata": {},
   "outputs": [
    {
     "data": {
      "text/html": [
       "<div>\n",
       "<style scoped>\n",
       "    .dataframe tbody tr th:only-of-type {\n",
       "        vertical-align: middle;\n",
       "    }\n",
       "\n",
       "    .dataframe tbody tr th {\n",
       "        vertical-align: top;\n",
       "    }\n",
       "\n",
       "    .dataframe thead th {\n",
       "        text-align: right;\n",
       "    }\n",
       "</style>\n",
       "<table border=\"1\" class=\"dataframe\">\n",
       "  <thead>\n",
       "    <tr style=\"text-align: right;\">\n",
       "      <th></th>\n",
       "      <th>count</th>\n",
       "    </tr>\n",
       "    <tr>\n",
       "      <th>imprich - Value Category</th>\n",
       "      <th></th>\n",
       "    </tr>\n",
       "  </thead>\n",
       "  <tbody>\n",
       "    <tr>\n",
       "      <th>1</th>\n",
       "      <td>532</td>\n",
       "    </tr>\n",
       "    <tr>\n",
       "      <th>2</th>\n",
       "      <td>1466</td>\n",
       "    </tr>\n",
       "    <tr>\n",
       "      <th>3</th>\n",
       "      <td>3184</td>\n",
       "    </tr>\n",
       "    <tr>\n",
       "      <th>4</th>\n",
       "      <td>4244</td>\n",
       "    </tr>\n",
       "    <tr>\n",
       "      <th>5</th>\n",
       "      <td>8567</td>\n",
       "    </tr>\n",
       "    <tr>\n",
       "      <th>6</th>\n",
       "      <td>2982</td>\n",
       "    </tr>\n",
       "    <tr>\n",
       "      <th>7</th>\n",
       "      <td>147</td>\n",
       "    </tr>\n",
       "    <tr>\n",
       "      <th>8</th>\n",
       "      <td>247</td>\n",
       "    </tr>\n",
       "    <tr>\n",
       "      <th>9</th>\n",
       "      <td>337</td>\n",
       "    </tr>\n",
       "  </tbody>\n",
       "</table>\n",
       "</div>"
      ],
      "text/plain": [
       "                          count\n",
       "imprich - Value Category       \n",
       "1                           532\n",
       "2                          1466\n",
       "3                          3184\n",
       "4                          4244\n",
       "5                          8567\n",
       "6                          2982\n",
       "7                           147\n",
       "8                           247\n",
       "9                           337"
      ]
     },
     "execution_count": 33,
     "metadata": {},
     "output_type": "execute_result"
    }
   ],
   "source": [
    "df_imprich = pd.DataFrame.from_dict(dict_imprich, orient='index', columns=['count'])\n",
    "df_imprich.index.name = 'imprich - Value Category'\n",
    "df_imprich = df_imprich.sort_index()\n",
    "df_imprich"
   ]
  },
  {
   "cell_type": "markdown",
   "id": "40bd6885-aee3-4b18-8615-2659f7ef8613",
   "metadata": {},
   "source": [
    "### impdiff - Important to try new and different things in life\n",
    "\n",
    "ESS1, ESS2, ESS3, ESS4, ESS5, ESS6, ESS7, ESS8, ESS9, ESS10\n",
    "\n",
    "**Category \timpdiff**\n",
    "* Very much like me\t1\n",
    "* Like me\t2\n",
    "* Somewhat like me\t3\n",
    "* A little like me\t4\n",
    "* Not like me\t5\n",
    "* Not like me at all\t6\n",
    "* Refusal\t7\n",
    "* Don't know\t8\n",
    "* No answer\t9"
   ]
  },
  {
   "cell_type": "code",
   "execution_count": 34,
   "id": "1bca8d93-4e7e-433a-ab9b-03dc9df2641e",
   "metadata": {},
   "outputs": [
    {
     "data": {
      "image/png": "[encoded data removed]",
      "text/plain": [
       "<Figure size 432x288 with 1 Axes>"
      ]
     },
     "metadata": {},
     "output_type": "display_data"
    }
   ],
   "source": [
    "#use seaborn\n",
    "\n",
    "sns.set_theme(style=\"ticks\", palette=\"pastel\")\n",
    "\n",
    "# Load the example tips dataset\n",
    "tips = sns.load_dataset(\"tips\")\n",
    "\n",
    "# Draw a nested boxplot to show bills by day and time\n",
    "sns.boxplot(x=\"day\", y=\"total_bill\",\n",
    "            hue=\"smoker\", palette=[\"m\", \"g\"],\n",
    "            data=tips)\n",
    "sns.despine(offset=10, trim=True)"
   ]
  },
  {
   "cell_type": "markdown",
   "id": "a0d4ccd2-8ea3-4364-800b-174b046fd0be",
   "metadata": {},
   "source": [
    "seaborn, grouped boxplot: https://seaborn.pydata.org/examples/grouped_boxplot.html"
   ]
  },
  {
   "cell_type": "code",
   "execution_count": null,
   "id": "2d762c79-a13f-45db-9036-d0127a1573ca",
   "metadata": {},
   "outputs": [],
   "source": []
  }
 ],
 "metadata": {
  "kernelspec": {
   "display_name": "Python 3 (ipykernel)",
   "language": "python",
   "name": "python3"
  },
  "language_info": {
   "codemirror_mode": {
    "name": "ipython",
    "version": 3
   },
   "file_extension": ".py",
   "mimetype": "text/x-python",
   "name": "python",
   "nbconvert_exporter": "python",
   "pygments_lexer": "ipython3",
   "version": "3.9.12"
  }
 },
 "nbformat": 4,
 "nbformat_minor": 5
}
